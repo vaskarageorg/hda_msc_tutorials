{
 "cells": [
  {
   "cell_type": "markdown",
   "metadata": {},
   "source": [
    "# Introduction to Data Manipulation and Visualisations in Python\n",
    "\n",
    "In this notebook, we shall show you how to manipulate an example dataset and visualise it in Python. This is commonly refered to as Exploratory Data Analysis (EDA) amongst Data Scientists. This is only an introduction and there are many other ways to manipulate and visualise data, just look online!\n",
    "\n",
    "This notebook is organised as follows:\n",
    "\n",
    "1. Reading in the Data\n",
    "2. Cleaning up the Data\n",
    "3. Understanding the Data\n",
    "4. Visualising the Data"
   ]
  },
  {
   "cell_type": "code",
   "execution_count": null,
   "metadata": {
    "ExecuteTime": {
     "end_time": "2020-01-26T20:40:44.801087Z",
     "start_time": "2020-01-26T20:40:44.095537Z"
    }
   },
   "outputs": [],
   "source": [
    "import numpy as np # linear algebra\n",
    "import pandas as pd # data processing, CSV file I/O (e.g. pd.read_csv)\n",
    "import matplotlib.pyplot as plt\n",
    "%matplotlib inline"
   ]
  },
  {
   "cell_type": "markdown",
   "metadata": {},
   "source": [
    "## Reading in the Data\n",
    "\n",
    "First stage of any Python data analysis is to first pull in all of the data into a local representation (a variable). For this tutorial, we will be using Pandas Dataframes, a common tool for data wrangling. See the cheatsheet within this directory for more cool tricks with Pandas Dataframes."
   ]
  },
  {
   "cell_type": "markdown",
   "metadata": {},
   "source": [
    "The dataset used in this tutorial is from Kaggle: \n",
    "\n",
    "Heart Disease UCI on #kaggle via @KaggleDatasets https://kaggle.com/ronitf/heart-disease-uci?utm_medium=social&utm_campaign=kaggle-dataset-share&utm_source=twitter"
   ]
  },
  {
   "cell_type": "markdown",
   "metadata": {},
   "source": [
    "The easiest and most common format to receive data in is a CSV. Other formats work well too (e.g. JSON, TXT, XML)\n",
    "\n",
    "1. Read `heart.csv` into a pandas dataframe and print out its `shape`"
   ]
  },
  {
   "cell_type": "code",
   "execution_count": null,
   "metadata": {
    "ExecuteTime": {
     "end_time": "2020-01-26T20:40:44.813833Z",
     "start_time": "2020-01-26T20:40:44.803544Z"
    }
   },
   "outputs": [],
   "source": []
  },
  {
   "cell_type": "markdown",
   "metadata": {},
   "source": [
    "2. Show the `head` or preview of the data"
   ]
  },
  {
   "cell_type": "code",
   "execution_count": null,
   "metadata": {
    "ExecuteTime": {
     "end_time": "2020-01-26T20:40:44.833705Z",
     "start_time": "2020-01-26T20:40:44.817181Z"
    }
   },
   "outputs": [],
   "source": []
  },
  {
   "cell_type": "markdown",
   "metadata": {},
   "source": [
    "3. Extract the labels from the data and store them as an `array` in a variable called `y`. Then print the first 10 values to make sure you stored them correctly as an `array`."
   ]
  },
  {
   "cell_type": "code",
   "execution_count": null,
   "metadata": {
    "ExecuteTime": {
     "end_time": "2020-01-26T20:40:44.840357Z",
     "start_time": "2020-01-26T20:40:44.836182Z"
    }
   },
   "outputs": [],
   "source": [
    "# Extract the labels from the data\n"
   ]
  },
  {
   "cell_type": "markdown",
   "metadata": {},
   "source": [
    "4. Remove the labels from the data we could use to train a model and store the remaining columns in a variable called `X_df` (`_df` is appended to remember this is a dataframe object still). Print a preview of the first 10 rows to make sure you did this."
   ]
  },
  {
   "cell_type": "code",
   "execution_count": null,
   "metadata": {
    "ExecuteTime": {
     "end_time": "2020-01-26T20:40:44.858046Z",
     "start_time": "2020-01-26T20:40:44.841991Z"
    }
   },
   "outputs": [],
   "source": [
    "# Remove the label column from the data used for training and testing\n"
   ]
  },
  {
   "cell_type": "markdown",
   "metadata": {},
   "source": [
    "## Cleaning up the Data\n",
    "\n",
    "Now that we have the data within Pandas Dataframes, it will be a bit easier to manipulate the data and clean up any errors we might not have expected to find. To do this, ask yourself, \"What do I expect the data to look like in each column?\" and then check it!"
   ]
  },
  {
   "cell_type": "markdown",
   "metadata": {},
   "source": [
    "According to the website, this is what the dataset should look like...\n",
    "\n",
    "`age`: age in years\n",
    "\n",
    "`sex`: male, female\n",
    "\n",
    "`cp`: chest pain type (4 values)\n",
    "\n",
    "`trestbps`: resting blood pressure (in mm Hg on admission to the hospital)\n",
    "\n",
    "`chol`: serum cholestoral in mg/dl\n",
    "\n",
    "`fbs`: (fasting blood sugar > 120 mg/dl) (1 = true; 0 = false)\n",
    "\n",
    "`restecg`: resting electrocardiographic results (values: 0, 1, 2)\n",
    "\n",
    "`thalach`: maximum heart rate achieved\n",
    "\n",
    "`exang`: exercise induced angina (1 = yes; 0 = no)\n",
    "\n",
    "`oldpeak`: ST depression induced by exercise relative to rest\n",
    "\n",
    "`slope`: the slope of the peak exercise ST segment\n",
    "\n",
    "`ca`: number of major vessels (0-3) colored by flourosopy\n",
    "\n",
    "`thal`: 3 = normal; 6 = fixed defect; 7 = reversable defect\n",
    "\n",
    "`target`: T or F (heart disease present or not, respectively)"
   ]
  },
  {
   "cell_type": "markdown",
   "metadata": {},
   "source": [
    "5. Using native dataframe functions, `describe` the values in the `age` column."
   ]
  },
  {
   "cell_type": "code",
   "execution_count": null,
   "metadata": {
    "ExecuteTime": {
     "end_time": "2020-01-26T20:40:44.867872Z",
     "start_time": "2020-01-26T20:40:44.860005Z"
    }
   },
   "outputs": [],
   "source": []
  },
  {
   "cell_type": "markdown",
   "metadata": {},
   "source": [
    "6. Using native dataframe functions, how many male and female patients are there?"
   ]
  },
  {
   "cell_type": "code",
   "execution_count": null,
   "metadata": {
    "ExecuteTime": {
     "end_time": "2020-01-26T20:40:44.875904Z",
     "start_time": "2020-01-26T20:40:44.869792Z"
    }
   },
   "outputs": [],
   "source": []
  },
  {
   "cell_type": "markdown",
   "metadata": {},
   "source": [
    "7. Using native dataframe functions, check how many different values are stored in the `cp` column with a single function."
   ]
  },
  {
   "cell_type": "code",
   "execution_count": null,
   "metadata": {
    "ExecuteTime": {
     "end_time": "2020-01-26T20:40:44.883303Z",
     "start_time": "2020-01-26T20:40:44.879245Z"
    }
   },
   "outputs": [],
   "source": []
  },
  {
   "cell_type": "markdown",
   "metadata": {},
   "source": [
    "8. Sometimes the functions you want to use will not be compatible with pandas dataframe objects. Try checking what unique values are in `restecg` after storing the values as an `array`."
   ]
  },
  {
   "cell_type": "code",
   "execution_count": null,
   "metadata": {
    "ExecuteTime": {
     "end_time": "2020-01-26T20:40:44.890438Z",
     "start_time": "2020-01-26T20:40:44.886384Z"
    }
   },
   "outputs": [],
   "source": []
  },
  {
   "cell_type": "markdown",
   "metadata": {},
   "source": [
    "9. Try replacing the name `oldpeak` to `stdepress`."
   ]
  },
  {
   "cell_type": "code",
   "execution_count": null,
   "metadata": {
    "ExecuteTime": {
     "end_time": "2020-01-26T20:40:44.909774Z",
     "start_time": "2020-01-26T20:40:44.893084Z"
    }
   },
   "outputs": [],
   "source": []
  },
  {
   "cell_type": "markdown",
   "metadata": {},
   "source": [
    "10. Change the values in `sex` to be numbers (male = 1, female = 0). Hint: Try `apply`ing a `lambda` function"
   ]
  },
  {
   "cell_type": "code",
   "execution_count": null,
   "metadata": {
    "ExecuteTime": {
     "end_time": "2020-01-26T20:40:44.933268Z",
     "start_time": "2020-01-26T20:40:44.913325Z"
    }
   },
   "outputs": [],
   "source": []
  },
  {
   "cell_type": "markdown",
   "metadata": {},
   "source": [
    "11. Translate the `T` and `F` values in the labels to numerical values (1 and 0, respectively). Be careful not to change the order!"
   ]
  },
  {
   "cell_type": "code",
   "execution_count": null,
   "metadata": {
    "ExecuteTime": {
     "end_time": "2020-01-26T20:40:44.940463Z",
     "start_time": "2020-01-26T20:40:44.935145Z"
    }
   },
   "outputs": [],
   "source": []
  },
  {
   "cell_type": "markdown",
   "metadata": {},
   "source": [
    "This is relatively clean data, i.e. with no null or NA values. Not every dataset will be this nice. Use the included cheatsheets for additional commands that may be useful in the future."
   ]
  },
  {
   "cell_type": "markdown",
   "metadata": {},
   "source": [
    "## Understanding the Data\n",
    "\n",
    "What other trends should the data have that are more than just a description? Should there be more of one type of feature than another? Check these and see what is important."
   ]
  },
  {
   "cell_type": "markdown",
   "metadata": {},
   "source": [
    "12. What is the average age? Maximum cholesterol level? Find a way to `describe` every column of the data in one view."
   ]
  },
  {
   "cell_type": "code",
   "execution_count": null,
   "metadata": {
    "ExecuteTime": {
     "end_time": "2020-01-26T20:40:45.000497Z",
     "start_time": "2020-01-26T20:40:44.943252Z"
    }
   },
   "outputs": [],
   "source": []
  },
  {
   "cell_type": "markdown",
   "metadata": {},
   "source": [
    "13. Is everything as it says it should be? Does the data seem to match the description? Does it make sense?"
   ]
  },
  {
   "cell_type": "code",
   "execution_count": null,
   "metadata": {
    "ExecuteTime": {
     "end_time": "2020-01-26T20:40:45.008836Z",
     "start_time": "2020-01-26T20:40:45.002226Z"
    }
   },
   "outputs": [],
   "source": []
  },
  {
   "cell_type": "markdown",
   "metadata": {},
   "source": [
    "## Visualing the Data\n",
    "\n",
    "Numbers are great for expressing quantifiable information, but \"a picture says a thousand words\"..."
   ]
  },
  {
   "cell_type": "markdown",
   "metadata": {},
   "source": [
    "14. Make a pie chart to visualise the balance of male to female patients"
   ]
  },
  {
   "cell_type": "code",
   "execution_count": null,
   "metadata": {
    "ExecuteTime": {
     "end_time": "2020-01-26T20:40:45.018039Z",
     "start_time": "2020-01-26T20:40:45.011217Z"
    }
   },
   "outputs": [],
   "source": []
  },
  {
   "cell_type": "code",
   "execution_count": null,
   "metadata": {
    "ExecuteTime": {
     "end_time": "2020-01-26T20:40:45.130249Z",
     "start_time": "2020-01-26T20:40:45.019996Z"
    }
   },
   "outputs": [],
   "source": []
  },
  {
   "cell_type": "markdown",
   "metadata": {},
   "source": [
    "15. Make a box & whisker plot to visualise the ages of the patients."
   ]
  },
  {
   "cell_type": "code",
   "execution_count": null,
   "metadata": {
    "ExecuteTime": {
     "end_time": "2020-01-26T20:40:45.274161Z",
     "start_time": "2020-01-26T20:40:45.132634Z"
    }
   },
   "outputs": [],
   "source": []
  },
  {
   "cell_type": "markdown",
   "metadata": {},
   "source": [
    "16. Make a box & whisker plot to visualise the ages with respect to whether the heart disease is present or not."
   ]
  },
  {
   "cell_type": "code",
   "execution_count": null,
   "metadata": {
    "ExecuteTime": {
     "end_time": "2020-01-26T20:40:45.456290Z",
     "start_time": "2020-01-26T20:40:45.276336Z"
    }
   },
   "outputs": [],
   "source": []
  },
  {
   "cell_type": "markdown",
   "metadata": {},
   "source": [
    "Now make a nifty visualisation on your own!"
   ]
  },
  {
   "cell_type": "markdown",
   "metadata": {},
   "source": [
    "# References\n",
    "\n",
    "* https://towardsdatascience.com/exploratory-analysis-python-kaggle-data-b0afb6ec1788\n",
    "* https://matplotlib.org/gallery/pie_and_polar_charts/pie_features.html\n",
    "* https://pandas.pydata.org/pandas-docs/stable/reference/api/pandas.DataFrame.boxplot.html"
   ]
  },
  {
   "cell_type": "code",
   "execution_count": null,
   "metadata": {},
   "outputs": [],
   "source": []
  }
 ],
 "metadata": {
  "kernelspec": {
   "display_name": "Python 3",
   "language": "python",
   "name": "python3"
  },
  "language_info": {
   "codemirror_mode": {
    "name": "ipython",
    "version": 3
   },
   "file_extension": ".py",
   "mimetype": "text/x-python",
   "name": "python",
   "nbconvert_exporter": "python",
   "pygments_lexer": "ipython3",
   "version": "3.7.3"
  }
 },
 "nbformat": 4,
 "nbformat_minor": 2
}
